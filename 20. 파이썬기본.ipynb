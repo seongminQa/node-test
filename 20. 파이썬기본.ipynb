{
 "cells": [
  {
   "cell_type": "code",
   "execution_count": 1,
   "id": "a71a0042",
   "metadata": {},
   "outputs": [
    {
     "name": "stdout",
     "output_type": "stream",
     "text": [
      "hello hello\n"
     ]
    }
   ],
   "source": [
    "print('hello',\"hello\") # 중간의 콤마가 공백을 만들어냄."
   ]
  },
  {
   "cell_type": "code",
   "execution_count": 4,
   "id": "177bef27",
   "metadata": {},
   "outputs": [
    {
     "name": "stdout",
     "output_type": "stream",
     "text": [
      "1+1 =  2\n"
     ]
    }
   ],
   "source": [
    "print('1+1 = ', 1+1)"
   ]
  },
  {
   "cell_type": "code",
   "execution_count": 6,
   "id": "5d3acfdf",
   "metadata": {},
   "outputs": [
    {
     "name": "stdout",
     "output_type": "stream",
     "text": [
      "python-java-c++\n"
     ]
    }
   ],
   "source": [
    "print('python','java','c++', sep = '-') # sep='구분자' # 콤마(,)대신에 표현할 문자를 넣을 수 있다."
   ]
  },
  {
   "cell_type": "code",
   "execution_count": 9,
   "id": "00df5b3d",
   "metadata": {},
   "outputs": [
    {
     "name": "stdout",
     "output_type": "stream",
     "text": [
      "1+1=2\n"
     ]
    }
   ],
   "source": [
    "print('1+1=',1+1,sep='')"
   ]
  },
  {
   "cell_type": "code",
   "execution_count": 10,
   "id": "2d7cd4a9",
   "metadata": {},
   "outputs": [
    {
     "name": "stdout",
     "output_type": "stream",
     "text": [
      "안녕하세요! 반갑습니다!\n"
     ]
    }
   ],
   "source": [
    "print('안녕하세요!', end=' ') # end = '끝문자' # 줄바꿈대신 ' '값이 들어가게됨.\n",
    "print('반갑습니다!')"
   ]
  },
  {
   "cell_type": "code",
   "execution_count": 11,
   "id": "4040a40b",
   "metadata": {},
   "outputs": [
    {
     "name": "stdout",
     "output_type": "stream",
     "text": [
      "안녕하세요!!반갑습니다!!"
     ]
    }
   ],
   "source": [
    "print('안녕하세요', end='!!')\n",
    "print('반갑습니다',end='!!')"
   ]
  },
  {
   "cell_type": "code",
   "execution_count": 18,
   "id": "8bb1bff3",
   "metadata": {},
   "outputs": [
    {
     "name": "stdout",
     "output_type": "stream",
     "text": [
      "자세히 보아야 예쁘다\n",
      "오래 보아야 사랑스럽다.\n",
      "너도 그렇다.\n"
     ]
    }
   ],
   "source": [
    "print('자세히 보아야 예쁘다')\n",
    "print('오래 보아야 사랑스럽다.')\n",
    "print('너도 그렇다.')"
   ]
  },
  {
   "cell_type": "code",
   "execution_count": 1,
   "id": "b0f07f7d",
   "metadata": {},
   "outputs": [
    {
     "name": "stdout",
     "output_type": "stream",
     "text": [
      "\n",
      "자세히 보아야 예쁘다\n",
      "오래 보아야 사랑스럽다\n",
      "너도 그렇다\n",
      "\n"
     ]
    }
   ],
   "source": [
    "print('''\n",
    "자세히 보아야 예쁘다\n",
    "오래 보아야 사랑스럽다\n",
    "너도 그렇다\n",
    "''')"
   ]
  },
  {
   "cell_type": "code",
   "execution_count": null,
   "id": "d3e535aa",
   "metadata": {},
   "outputs": [],
   "source": []
  }
 ],
 "metadata": {
  "kernelspec": {
   "display_name": "Python 3 (ipykernel)",
   "language": "python",
   "name": "python3"
  },
  "language_info": {
   "codemirror_mode": {
    "name": "ipython",
    "version": 3
   },
   "file_extension": ".py",
   "mimetype": "text/x-python",
   "name": "python",
   "nbconvert_exporter": "python",
   "pygments_lexer": "ipython3",
   "version": "3.9.12"
  },
  "toc": {
   "base_numbering": 1,
   "nav_menu": {},
   "number_sections": true,
   "sideBar": true,
   "skip_h1_title": false,
   "title_cell": "Table of Contents",
   "title_sidebar": "Contents",
   "toc_cell": false,
   "toc_position": {},
   "toc_section_display": true,
   "toc_window_display": false
  }
 },
 "nbformat": 4,
 "nbformat_minor": 5
}
